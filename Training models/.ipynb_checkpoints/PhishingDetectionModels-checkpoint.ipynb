{
 "cells": [
  {
   "cell_type": "markdown",
   "id": "9e873334",
   "metadata": {},
   "source": [
    "# Phishing Detection with Machine Learning\n",
    "\n",
    "## 1. Introduction\n",
    "\n",
    "Phishing is a fraudulent attempt to obtain sensitive information by disguising as a trustworthy entity. These attacks are commonly executed through emails or websites that mimic legitimate sources. Detecting phishing attacks is crucial for online security, as it helps protect users from identity theft, financial loss, and other malicious activities. This project aims to build and evaluate several machine learning models to detect phishing websites using a labeled dataset.\n",
    "\n",
    "## 2. Import Libraries\n",
    "\n",
    "In this section, we import the necessary libraries for data manipulation, preprocessing, model building, and evaluation.\n"
   ]
  },
  {
   "cell_type": "code",
   "execution_count": 17,
   "id": "0f6ea5e8",
   "metadata": {},
   "outputs": [],
   "source": [
    "import pandas as pd\n",
    "from sklearn.model_selection import train_test_split, cross_val_score\n",
    "from sklearn.preprocessing import StandardScaler, LabelEncoder\n",
    "from sklearn.metrics import accuracy_score, precision_score, recall_score, f1_score, roc_auc_score\n",
    "from sklearn.linear_model import LogisticRegression\n",
    "from sklearn.tree import DecisionTreeClassifier\n",
    "from sklearn.ensemble import RandomForestClassifier, GradientBoostingClassifier\n",
    "from xgboost import XGBClassifier\n",
    "from sklearn.svm import SVC\n",
    "from sklearn.neighbors import KNeighborsClassifier\n",
    "from sklearn.neural_network import MLPClassifier\n",
    "import matplotlib.pyplot as plt\n",
    "import seaborn as sns"
   ]
  },
  {
   "cell_type": "markdown",
   "id": "9f394e17",
   "metadata": {},
   "source": [
    "# 3. Load Dataset\n",
    "We load the phishing dataset and display the first few rows to understand its structure and the features available."
   ]
  },
  {
   "cell_type": "code",
   "execution_count": 3,
   "id": "ecf533db",
   "metadata": {},
   "outputs": [
    {
     "data": {
      "text/html": [
       "<div>\n",
       "<style scoped>\n",
       "    .dataframe tbody tr th:only-of-type {\n",
       "        vertical-align: middle;\n",
       "    }\n",
       "\n",
       "    .dataframe tbody tr th {\n",
       "        vertical-align: top;\n",
       "    }\n",
       "\n",
       "    .dataframe thead th {\n",
       "        text-align: right;\n",
       "    }\n",
       "</style>\n",
       "<table border=\"1\" class=\"dataframe\">\n",
       "  <thead>\n",
       "    <tr style=\"text-align: right;\">\n",
       "      <th></th>\n",
       "      <th>url</th>\n",
       "      <th>length_url</th>\n",
       "      <th>length_hostname</th>\n",
       "      <th>ip</th>\n",
       "      <th>nb_dots</th>\n",
       "      <th>nb_hyphens</th>\n",
       "      <th>nb_at</th>\n",
       "      <th>nb_qm</th>\n",
       "      <th>nb_and</th>\n",
       "      <th>nb_or</th>\n",
       "      <th>...</th>\n",
       "      <th>domain_in_title</th>\n",
       "      <th>domain_with_copyright</th>\n",
       "      <th>whois_registered_domain</th>\n",
       "      <th>domain_registration_length</th>\n",
       "      <th>domain_age</th>\n",
       "      <th>web_traffic</th>\n",
       "      <th>dns_record</th>\n",
       "      <th>google_index</th>\n",
       "      <th>page_rank</th>\n",
       "      <th>status</th>\n",
       "    </tr>\n",
       "  </thead>\n",
       "  <tbody>\n",
       "    <tr>\n",
       "      <th>0</th>\n",
       "      <td>http://www.crestonwood.com/router.php</td>\n",
       "      <td>37</td>\n",
       "      <td>19</td>\n",
       "      <td>0</td>\n",
       "      <td>3</td>\n",
       "      <td>0</td>\n",
       "      <td>0</td>\n",
       "      <td>0</td>\n",
       "      <td>0</td>\n",
       "      <td>0</td>\n",
       "      <td>...</td>\n",
       "      <td>0</td>\n",
       "      <td>1</td>\n",
       "      <td>0</td>\n",
       "      <td>45</td>\n",
       "      <td>-1</td>\n",
       "      <td>0</td>\n",
       "      <td>1</td>\n",
       "      <td>1</td>\n",
       "      <td>4</td>\n",
       "      <td>legitimate</td>\n",
       "    </tr>\n",
       "    <tr>\n",
       "      <th>1</th>\n",
       "      <td>http://shadetreetechnology.com/V4/validation/a...</td>\n",
       "      <td>77</td>\n",
       "      <td>23</td>\n",
       "      <td>1</td>\n",
       "      <td>1</td>\n",
       "      <td>0</td>\n",
       "      <td>0</td>\n",
       "      <td>0</td>\n",
       "      <td>0</td>\n",
       "      <td>0</td>\n",
       "      <td>...</td>\n",
       "      <td>1</td>\n",
       "      <td>0</td>\n",
       "      <td>0</td>\n",
       "      <td>77</td>\n",
       "      <td>5767</td>\n",
       "      <td>0</td>\n",
       "      <td>0</td>\n",
       "      <td>1</td>\n",
       "      <td>2</td>\n",
       "      <td>phishing</td>\n",
       "    </tr>\n",
       "    <tr>\n",
       "      <th>2</th>\n",
       "      <td>https://support-appleld.com.secureupdate.duila...</td>\n",
       "      <td>126</td>\n",
       "      <td>50</td>\n",
       "      <td>1</td>\n",
       "      <td>4</td>\n",
       "      <td>1</td>\n",
       "      <td>0</td>\n",
       "      <td>1</td>\n",
       "      <td>2</td>\n",
       "      <td>0</td>\n",
       "      <td>...</td>\n",
       "      <td>1</td>\n",
       "      <td>0</td>\n",
       "      <td>0</td>\n",
       "      <td>14</td>\n",
       "      <td>4004</td>\n",
       "      <td>5828815</td>\n",
       "      <td>0</td>\n",
       "      <td>1</td>\n",
       "      <td>0</td>\n",
       "      <td>phishing</td>\n",
       "    </tr>\n",
       "    <tr>\n",
       "      <th>3</th>\n",
       "      <td>http://rgipt.ac.in</td>\n",
       "      <td>18</td>\n",
       "      <td>11</td>\n",
       "      <td>0</td>\n",
       "      <td>2</td>\n",
       "      <td>0</td>\n",
       "      <td>0</td>\n",
       "      <td>0</td>\n",
       "      <td>0</td>\n",
       "      <td>0</td>\n",
       "      <td>...</td>\n",
       "      <td>1</td>\n",
       "      <td>0</td>\n",
       "      <td>0</td>\n",
       "      <td>62</td>\n",
       "      <td>-1</td>\n",
       "      <td>107721</td>\n",
       "      <td>0</td>\n",
       "      <td>0</td>\n",
       "      <td>3</td>\n",
       "      <td>legitimate</td>\n",
       "    </tr>\n",
       "    <tr>\n",
       "      <th>4</th>\n",
       "      <td>http://www.iracing.com/tracks/gateway-motorspo...</td>\n",
       "      <td>55</td>\n",
       "      <td>15</td>\n",
       "      <td>0</td>\n",
       "      <td>2</td>\n",
       "      <td>2</td>\n",
       "      <td>0</td>\n",
       "      <td>0</td>\n",
       "      <td>0</td>\n",
       "      <td>0</td>\n",
       "      <td>...</td>\n",
       "      <td>0</td>\n",
       "      <td>1</td>\n",
       "      <td>0</td>\n",
       "      <td>224</td>\n",
       "      <td>8175</td>\n",
       "      <td>8725</td>\n",
       "      <td>0</td>\n",
       "      <td>0</td>\n",
       "      <td>6</td>\n",
       "      <td>legitimate</td>\n",
       "    </tr>\n",
       "  </tbody>\n",
       "</table>\n",
       "<p>5 rows × 89 columns</p>\n",
       "</div>"
      ],
      "text/plain": [
       "                                                 url  length_url  \\\n",
       "0              http://www.crestonwood.com/router.php          37   \n",
       "1  http://shadetreetechnology.com/V4/validation/a...          77   \n",
       "2  https://support-appleld.com.secureupdate.duila...         126   \n",
       "3                                 http://rgipt.ac.in          18   \n",
       "4  http://www.iracing.com/tracks/gateway-motorspo...          55   \n",
       "\n",
       "   length_hostname  ip  nb_dots  nb_hyphens  nb_at  nb_qm  nb_and  nb_or  ...  \\\n",
       "0               19   0        3           0      0      0       0      0  ...   \n",
       "1               23   1        1           0      0      0       0      0  ...   \n",
       "2               50   1        4           1      0      1       2      0  ...   \n",
       "3               11   0        2           0      0      0       0      0  ...   \n",
       "4               15   0        2           2      0      0       0      0  ...   \n",
       "\n",
       "   domain_in_title  domain_with_copyright  whois_registered_domain  \\\n",
       "0                0                      1                        0   \n",
       "1                1                      0                        0   \n",
       "2                1                      0                        0   \n",
       "3                1                      0                        0   \n",
       "4                0                      1                        0   \n",
       "\n",
       "   domain_registration_length  domain_age  web_traffic  dns_record  \\\n",
       "0                          45          -1            0           1   \n",
       "1                          77        5767            0           0   \n",
       "2                          14        4004      5828815           0   \n",
       "3                          62          -1       107721           0   \n",
       "4                         224        8175         8725           0   \n",
       "\n",
       "   google_index  page_rank      status  \n",
       "0             1          4  legitimate  \n",
       "1             1          2    phishing  \n",
       "2             1          0    phishing  \n",
       "3             0          3  legitimate  \n",
       "4             0          6  legitimate  \n",
       "\n",
       "[5 rows x 89 columns]"
      ]
     },
     "execution_count": 3,
     "metadata": {},
     "output_type": "execute_result"
    }
   ],
   "source": [
    "# Load the dataset (replace 'phishing_dataset.csv' with your dataset file)\n",
    "data = pd.read_csv('dataset_phishing.csv')\n",
    "data.head()"
   ]
  },
  {
   "cell_type": "markdown",
   "id": "b1384e46",
   "metadata": {},
   "source": [
    "# 4. Analysis of the dataset\n",
    "\n",
    "### Graph of Distribution of Phishing and Legitimate Websites"
   ]
  },
  {
   "cell_type": "code",
   "execution_count": 18,
   "id": "28ff387f",
   "metadata": {},
   "outputs": [
    {
     "data": {
      "image/png": "[encoded data removed]",
      "text/plain": [
       "<Figure size 800x600 with 1 Axes>"
      ]
     },
     "metadata": {},
     "output_type": "display_data"
    }
   ],
   "source": [
    "plt.figure(figsize=(8, 6))\n",
    "sns.countplot(x='status', data=data)\n",
    "plt.title('Distribution of Phishing and Legitimate Websites')\n",
    "plt.xlabel('Status (0: Legitimate, 1: Phishing)')\n",
    "plt.ylabel('Count')\n",
    "plt.show()"
   ]
  },
  {
   "cell_type": "markdown",
   "id": "6fcabea4",
   "metadata": {},
   "source": [
    "### Graph of Distribution of URL Length and Presence of IP address in URL"
   ]
  },
  {
   "cell_type": "code",
   "execution_count": 19,
   "id": "8b82b3a5",
   "metadata": {},
   "outputs": [
    {
     "data": {
      "image/png": "[encoded data removed]",
      "text/plain": [
       "<Figure size 1000x600 with 1 Axes>"
      ]
     },
     "metadata": {},
     "output_type": "display_data"
    },
    {
     "data": {
      "image/png": "[encoded data removed]",
      "text/plain": [
       "<Figure size 800x600 with 1 Axes>"
      ]
     },
     "metadata": {},
     "output_type": "display_data"
    }
   ],
   "source": [
    "# Distribution of URL length\n",
    "plt.figure(figsize=(10, 6))\n",
    "sns.histplot(data['length_url'], bins=30, kde=True)\n",
    "plt.title('Distribution of URL Length')\n",
    "plt.xlabel('Length of URL')\n",
    "plt.ylabel('Frequency')\n",
    "plt.show()\n",
    "\n",
    "# Presence of IP address in URL\n",
    "plt.figure(figsize=(8, 6))\n",
    "sns.countplot(x='ip', data=data, hue='status')\n",
    "plt.title('Presence of IP Address in URL')\n",
    "plt.xlabel('IP in URL (0: No, 1: Yes)')\n",
    "plt.ylabel('Count')\n",
    "plt.show()\n"
   ]
  },
  {
   "cell_type": "markdown",
   "id": "dbdb9de5",
   "metadata": {},
   "source": [
    "# 5. Data Preprocessing\n",
    "In this step, we prepare the data for model training:\n",
    "\n",
    "- Separate Features and Target Variable: We separate the features (X) from the target variable (y).\n",
    "- Encode the Target Variable: The target variable 'status' is encoded to numerical values (0 for 'legitimate', 1 for 'phishing').\n",
    "- Encode Categorical Features: Any categorical features in the dataset are encoded to numerical values.\n",
    "- Scale Numerical Features: Numerical features are scaled to ensure that they have a mean of 0 and a standard deviation of 1, -which helps improve the performance of many machine learning algorithms."
   ]
  },
  {
   "cell_type": "code",
   "execution_count": 4,
   "id": "d20db682",
   "metadata": {},
   "outputs": [],
   "source": [
    "# Separate features and target variable\n",
    "X = data.drop('status', axis=1)\n",
    "y = data['status']\n",
    "\n",
    "# Encode the target variable\n",
    "label_encoder = LabelEncoder()\n",
    "y = label_encoder.fit_transform(y)  # 0 for 'legitimate', 1 for 'phishing'\n",
    "\n",
    "# Encode categorical features\n",
    "for col in X.select_dtypes(include=['object']).columns:\n",
    "    X[col] = LabelEncoder().fit_transform(X[col])\n",
    "\n",
    "# Scale numerical features\n",
    "scaler = StandardScaler()\n",
    "X_scaled = scaler.fit_transform(X)\n",
    "\n"
   ]
  },
  {
   "cell_type": "markdown",
   "id": "57dfd4fe",
   "metadata": {},
   "source": [
    "# 6. Split Dataset\n",
    "We split the data into training and testing sets to evaluate the performance of the models. The training set is used to train the models, and the testing set is used to evaluate their performance.\n",
    "\n"
   ]
  },
  {
   "cell_type": "code",
   "execution_count": 5,
   "id": "73925269",
   "metadata": {},
   "outputs": [],
   "source": [
    "# Split the data into training and testing sets\n",
    "X_train, X_test, y_train, y_test = train_test_split(X_scaled, y, test_size=0.2, random_state=42)\n",
    "\n"
   ]
  },
  {
   "cell_type": "markdown",
   "id": "708a516c",
   "metadata": {},
   "source": [
    "# 7. Define Models\n",
    "We define a dictionary of machine learning models that will be evaluated. Each model is initialized with its default parameters."
   ]
  },
  {
   "cell_type": "code",
   "execution_count": 10,
   "id": "5cf555ea",
   "metadata": {},
   "outputs": [],
   "source": [
    "# Define models\n",
    "models = {\n",
    "    \"Logistic Regression\": LogisticRegression(),\n",
    "    \"Decision Tree\": DecisionTreeClassifier(),\n",
    "    \"Random Forest\": RandomForestClassifier(),\n",
    "    \"Gradient Boosting\": GradientBoostingClassifier(),\n",
    "    \"XGBoost\": XGBClassifier(),\n",
    "    \"Support Vector Machine\": SVC(probability=True),\n",
    "    \"k-Nearest Neighbors\": KNeighborsClassifier(),\n",
    "    \"Neural Network\": MLPClassifier(max_iter=1000)\n",
    "}\n",
    "\n"
   ]
  },
  {
   "cell_type": "markdown",
   "id": "b1a300d6",
   "metadata": {},
   "source": [
    "# 8. Train and Evaluate Models\n",
    "We train each model on the training set and evaluate its performance on the testing set. For evaluation, we use various metrics such as accuracy, precision, recall, F1 score, and ROC AUC. The results are stored in a dictionary for comparison."
   ]
  },
  {
   "cell_type": "code",
   "execution_count": 11,
   "id": "884beef9",
   "metadata": {},
   "outputs": [
    {
     "name": "stderr",
     "output_type": "stream",
     "text": [
      "C:\\Users\\kanik\\anaconda3\\lib\\site-packages\\sklearn\\linear_model\\_logistic.py:814: ConvergenceWarning: lbfgs failed to converge (status=1):\n",
      "STOP: TOTAL NO. of ITERATIONS REACHED LIMIT.\n",
      "\n",
      "Increase the number of iterations (max_iter) or scale the data as shown in:\n",
      "    https://scikit-learn.org/stable/modules/preprocessing.html\n",
      "Please also refer to the documentation for alternative solver options:\n",
      "    https://scikit-learn.org/stable/modules/linear_model.html#logistic-regression\n",
      "  n_iter_i = _check_optimize_result(\n",
      "C:\\Users\\kanik\\anaconda3\\lib\\site-packages\\sklearn\\neighbors\\_classification.py:228: FutureWarning: Unlike other reduction functions (e.g. `skew`, `kurtosis`), the default behavior of `mode` typically preserves the axis it acts along. In SciPy 1.11.0, this behavior will change: the default value of `keepdims` will become False, the `axis` over which the statistic is taken will be eliminated, and the value None will no longer be accepted. Set `keepdims` to True or False to avoid this warning.\n",
      "  mode, _ = stats.mode(_y[neigh_ind, k], axis=1)\n"
     ]
    }
   ],
   "source": [
    "# Train and evaluate models\n",
    "results = {}\n",
    "for model_name, model in models.items():\n",
    "    model.fit(X_train, y_train)\n",
    "    y_pred = model.predict(X_test)\n",
    "    y_proba = model.predict_proba(X_test)[:, 1] if hasattr(model, \"predict_proba\") else model.decision_function(X_test)\n",
    "   \n",
    "    results[model_name] = {\n",
    "        \"Accuracy\": accuracy_score(y_test, y_pred),\n",
    "        \"Precision\": precision_score(y_test, y_pred, pos_label=label_encoder.transform(['phishing'])[0]),\n",
    "        \"Recall\": recall_score(y_test, y_pred, pos_label=label_encoder.transform(['phishing'])[0]),\n",
    "        \"F1 Score\": f1_score(y_test, y_pred, pos_label=label_encoder.transform(['phishing'])[0]),\n",
    "        \"ROC AUC\": roc_auc_score(y_test, y_proba)\n",
    "    }\n"
   ]
  },
  {
   "cell_type": "markdown",
   "id": "113d6464",
   "metadata": {},
   "source": [
    "# 9. Display Results\n",
    "We print the evaluation metrics for each model in a readable format. This allows us to compare the performance of different models."
   ]
  },
  {
   "cell_type": "code",
   "execution_count": 12,
   "id": "81d2238a",
   "metadata": {},
   "outputs": [
    {
     "name": "stdout",
     "output_type": "stream",
     "text": [
      "Model: Logistic Regression\n",
      "Accuracy: 0.9558\n",
      "Precision: 0.9589\n",
      "Recall: 0.9513\n",
      "F1 Score: 0.9551\n",
      "ROC AUC: 0.9888\n",
      "\n",
      "\n",
      "Model: Decision Tree\n",
      "Accuracy: 0.9326\n",
      "Precision: 0.9288\n",
      "Recall: 0.9353\n",
      "F1 Score: 0.9320\n",
      "ROC AUC: 0.9327\n",
      "\n",
      "\n",
      "Model: Random Forest\n",
      "Accuracy: 0.9676\n",
      "Precision: 0.9722\n",
      "Recall: 0.9619\n",
      "F1 Score: 0.9671\n",
      "ROC AUC: 0.9951\n",
      "\n",
      "\n",
      "Model: Gradient Boosting\n",
      "Accuracy: 0.9598\n",
      "Precision: 0.9601\n",
      "Recall: 0.9584\n",
      "F1 Score: 0.9592\n",
      "ROC AUC: 0.9919\n",
      "\n",
      "\n",
      "Model: XGBoost\n",
      "Accuracy: 0.9698\n",
      "Precision: 0.9674\n",
      "Recall: 0.9717\n",
      "F1 Score: 0.9695\n",
      "ROC AUC: 0.9960\n",
      "\n",
      "\n",
      "Model: Support Vector Machine\n",
      "Accuracy: 0.9637\n",
      "Precision: 0.9661\n",
      "Recall: 0.9601\n",
      "F1 Score: 0.9631\n",
      "ROC AUC: 0.9930\n",
      "\n",
      "\n",
      "Model: k-Nearest Neighbors\n",
      "Accuracy: 0.9423\n",
      "Precision: 0.9569\n",
      "Recall: 0.9247\n",
      "F1 Score: 0.9405\n",
      "ROC AUC: 0.9793\n",
      "\n",
      "\n",
      "Model: Neural Network\n",
      "Accuracy: 0.9606\n",
      "Precision: 0.9585\n",
      "Recall: 0.9619\n",
      "F1 Score: 0.9602\n",
      "ROC AUC: 0.9915\n",
      "\n",
      "\n"
     ]
    }
   ],
   "source": [
    "\n",
    "# Print results\n",
    "for model_name, metrics in results.items():\n",
    "    print(f\"Model: {model_name}\")\n",
    "    for metric_name, metric_value in metrics.items():\n",
    "        print(f\"{metric_name}: {metric_value:.4f}\")\n",
    "    print(\"\\n\")"
   ]
  },
  {
   "cell_type": "markdown",
   "id": "5a84a381",
   "metadata": {},
   "source": [
    "# 10. Final Step\n",
    "Save the best Prediction model\n",
    "\n",
    "Here, we are saving XGBoost which have the highest accuracy of 96.98%"
   ]
  },
  {
   "cell_type": "code",
   "execution_count": 13,
   "id": "c57832f6",
   "metadata": {},
   "outputs": [
    {
     "data": {
      "text/plain": [
       "['xgb_model.pkl']"
      ]
     },
     "execution_count": 13,
     "metadata": {},
     "output_type": "execute_result"
    }
   ],
   "source": [
    "import joblib\n",
    "from xgboost import XGBClassifier\n",
    "\n",
    "\n",
    "xgb_model = models['XGBoost']\n",
    "joblib.dump(xgb_model,'xgb_model.pkl')"
   ]
  }
 ],
 "metadata": {
  "kernelspec": {
   "display_name": "Python 3 (ipykernel)",
   "language": "python",
   "name": "python3"
  },
  "language_info": {
   "codemirror_mode": {
    "name": "ipython",
    "version": 3
   },
   "file_extension": ".py",
   "mimetype": "text/x-python",
   "name": "python",
   "nbconvert_exporter": "python",
   "pygments_lexer": "ipython3",
   "version": "3.9.13"
  }
 },
 "nbformat": 4,
 "nbformat_minor": 5
}
